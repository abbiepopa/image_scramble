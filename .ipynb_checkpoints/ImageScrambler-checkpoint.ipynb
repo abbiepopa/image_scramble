{
 "cells": [
  {
   "cell_type": "code",
   "execution_count": 1,
   "metadata": {
    "collapsed": false
   },
   "outputs": [],
   "source": [
    "from PIL import Image\n",
    "import sys\n",
    "import os\n",
    "import random"
   ]
  },
  {
   "cell_type": "code",
   "execution_count": 80,
   "metadata": {
    "collapsed": true
   },
   "outputs": [],
   "source": [
    "os.chdir('/Users/abbiepopa/Documents/') "
   ]
  },
  {
   "cell_type": "code",
   "execution_count": 2,
   "metadata": {
    "collapsed": false
   },
   "outputs": [],
   "source": [
    "img = Image.open('/Volumes/NO NAME/NimStim for eTD/Gray/43M_CA_C_gray.png')"
   ]
  },
  {
   "cell_type": "code",
   "execution_count": 3,
   "metadata": {
    "collapsed": false
   },
   "outputs": [],
   "source": [
    "#function to scramble pixel indices\n",
    "def scrambledIndex(pxs):\n",
    "    idx = range(len(pxs))\n",
    "    random.shuffle(idx)\n",
    "    return idx"
   ]
  },
  {
   "cell_type": "code",
   "execution_count": 4,
   "metadata": {
    "collapsed": true
   },
   "outputs": [],
   "source": [
    "#function to make the array of pixels for scrambling\n",
    "def getPixels(img):\n",
    "    w, h = img.size\n",
    "    w = w - 1\n",
    "    h = h - 1\n",
    "    pxs = []\n",
    "    for x in range(w):\n",
    "        for y in range(h):\n",
    "            pxs.append(img.getpixel((x, y)))\n",
    "    return pxs"
   ]
  },
  {
   "cell_type": "code",
   "execution_count": 5,
   "metadata": {
    "collapsed": true
   },
   "outputs": [],
   "source": [
    "#combines above two functions to scramble a pixels images\n",
    "def scramblePixels(img):\n",
    "    random.seed(img)\n",
    "    pxs = getPixels(img)\n",
    "    idx = scrambledIndex(pxs)\n",
    "    out = []\n",
    "    for i in idx:\n",
    "        out.append(pxs[i])\n",
    "    return out"
   ]
  },
  {
   "cell_type": "code",
   "execution_count": 6,
   "metadata": {
    "collapsed": false
   },
   "outputs": [],
   "source": [
    "#makes the new image\n",
    "def storePixels(name, size, pxs):\n",
    "    outImg = Image.new(\"LA\", size)\n",
    "    w, h = size\n",
    "    w = w - 1\n",
    "    h = h - 1 \n",
    "    pxIter = iter(pxs)\n",
    "    for x in range(w):\n",
    "        for y in range(h):\n",
    "            outImg.putpixel((x, y), pxIter.next())\n",
    "    outImg.save(name)"
   ]
  },
  {
   "cell_type": "code",
   "execution_count": 7,
   "metadata": {
    "collapsed": false
   },
   "outputs": [],
   "source": [
    "#applies to a directory of images\n",
    "def scramDirec(direc):\n",
    "    imgs = os.listdir(direc)\n",
    "    imgs = imgs[2:len(imgs)]\n",
    "    for i in imgs:\n",
    "        if not i[0]=='.':\n",
    "            img = Image.open(direc + i)\n",
    "            pxs = scramblePixels(img)\n",
    "            out_file = i[0:(len(i)-4)] + \"_scrambled.png\"\n",
    "            storePixels(out_file, img.size, pxs)"
   ]
  },
  {
   "cell_type": "code",
   "execution_count": 9,
   "metadata": {
    "collapsed": false
   },
   "outputs": [],
   "source": [
    "scramDirec('/Volumes/NO NAME/NimStim for eTD/43M/')"
   ]
  },
  {
   "cell_type": "code",
   "execution_count": 15,
   "metadata": {
    "collapsed": true
   },
   "outputs": [],
   "source": [
    "#grayscale\n",
    "def makeItGray(direc, name):\n",
    "    img_file = direc + name\n",
    "    img = Image.open(img_file)\n",
    "    gray = img.convert('LA')\n",
    "    out_file = img_file[0:(len(img_file)-4)] + \"_gray.png\" \n",
    "    gray.save(out_file)"
   ]
  },
  {
   "cell_type": "code",
   "execution_count": 35,
   "metadata": {
    "collapsed": true
   },
   "outputs": [],
   "source": [
    "def makeDirGray(direc):\n",
    "    imgs = os.listdir(direc)\n",
    "    imgs = imgs[2:len(imgs)]\n",
    "    for i in imgs:\n",
    "        if not i[0]=='.':\n",
    "            makeItGray(direc, i)"
   ]
  },
  {
   "cell_type": "code",
   "execution_count": 36,
   "metadata": {
    "collapsed": false
   },
   "outputs": [],
   "source": [
    "makeDirGray('/Volumes/NO NAME/NimStim for eTD/')"
   ]
  },
  {
   "cell_type": "code",
   "execution_count": 37,
   "metadata": {
    "collapsed": true
   },
   "outputs": [],
   "source": [
    "import numpy"
   ]
  },
  {
   "cell_type": "code",
   "execution_count": 71,
   "metadata": {
    "collapsed": true
   },
   "outputs": [],
   "source": [
    "###I retired the idea of an averaged image because it seemed like more trouble than it's worth\n",
    "###given how scrambled the images get\n",
    "def makeAvgImg(imlist):\n",
    "    #takes a list of images\n",
    "    #imlist = os.listdir(direc)\n",
    "    w,h = Image.open(imlist[0]).size\n",
    "    N=len(imlist)\n",
    "    arr=numpy.zeros((h,w,3),numpy.float)\n",
    "    for im in imlist:\n",
    "        print im\n",
    "        imarr=numpy.array(Image.open(im),dtype=numpy.float)\n",
    "        arr=arr+imarr/N\n",
    "    arr=numpy.array(numpy.round(arr),dtype=numpy.uint8)\n",
    "    out=Image.fromarray(arr,mode=\"RGB\")\n",
    "    out.save(direc+\"Average.png\")\n",
    "    out.show()"
   ]
  },
  {
   "cell_type": "code",
   "execution_count": 52,
   "metadata": {
    "collapsed": true
   },
   "outputs": [],
   "source": [
    "imlist = ['/Volumes/NO NAME/eDT average test/01F_AN_O_gray.png','/Volumes/NO NAME/eDT average test/01F_CA_C_gray.png','/Volumes/NO NAME/eDT average test/01F_HA_O_gray.png']"
   ]
  },
  {
   "cell_type": "code",
   "execution_count": 25,
   "metadata": {
    "collapsed": false
   },
   "outputs": [
    {
     "ename": "NameError",
     "evalue": "name 'out_file' is not defined",
     "output_type": "error",
     "traceback": [
      "\u001b[0;31m---------------------------------------------------------------------------\u001b[0m",
      "\u001b[0;31mNameError\u001b[0m                                 Traceback (most recent call last)",
      "\u001b[0;32m<ipython-input-25-2861dc1c5914>\u001b[0m in \u001b[0;36m<module>\u001b[0;34m()\u001b[0m\n\u001b[0;32m----> 1\u001b[0;31m \u001b[0mout_file\u001b[0m\u001b[0;34m\u001b[0m\u001b[0m\n\u001b[0m",
      "\u001b[0;31mNameError\u001b[0m: name 'out_file' is not defined"
     ]
    }
   ],
   "source": [
    "out_file"
   ]
  },
  {
   "cell_type": "code",
   "execution_count": null,
   "metadata": {
    "collapsed": true
   },
   "outputs": [],
   "source": []
  }
 ],
 "metadata": {
  "kernelspec": {
   "display_name": "Python 2",
   "language": "python",
   "name": "python2"
  },
  "language_info": {
   "codemirror_mode": {
    "name": "ipython",
    "version": 2
   },
   "file_extension": ".py",
   "mimetype": "text/x-python",
   "name": "python",
   "nbconvert_exporter": "python",
   "pygments_lexer": "ipython2",
   "version": "2.7.12"
  }
 },
 "nbformat": 4,
 "nbformat_minor": 0
}
